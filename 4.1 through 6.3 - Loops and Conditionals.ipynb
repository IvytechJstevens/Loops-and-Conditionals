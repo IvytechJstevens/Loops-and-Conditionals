{
 "cells": [
  {
   "cell_type": "code",
   "execution_count": 8,
   "id": "44e55fcc",
   "metadata": {},
   "outputs": [
    {
     "name": "stdout",
     "output_type": "stream",
     "text": [
      "Too low\n"
     ]
    }
   ],
   "source": [
    "secret = 7  # You can choose any number between 1 and 10 for 'secret'\n",
    "guess = 5  # You can choose any number between 1 and 10 for 'guess'\n",
    "\n",
    "if guess < secret:\n",
    "    print(\"Too low\")\n",
    "elif guess > secret:\n",
    "    print(\"Too high\")\n",
    "else:\n",
    "    print(\"Just right\")"
   ]
  },
  {
   "cell_type": "code",
   "execution_count": 9,
   "id": "47f6b267",
   "metadata": {},
   "outputs": [
    {
     "name": "stdout",
     "output_type": "stream",
     "text": [
      "It matches: pea\n"
     ]
    }
   ],
   "source": [
    "small = True  # You can change this to either True or False\n",
    "green = True  # You can change this to either True or False\n",
    "\n",
    "if small and green:\n",
    "    print(\"It matches: pea\")\n",
    "elif small and not green:\n",
    "    print(\"It matches: cherry\")\n",
    "elif not small and green:\n",
    "    print(\"It matches: watermelon\")\n",
    "else:\n",
    "    print(\"It matches: pumpkin\")"
   ]
  },
  {
   "cell_type": "code",
   "execution_count": 10,
   "id": "46d44daf",
   "metadata": {},
   "outputs": [
    {
     "name": "stdout",
     "output_type": "stream",
     "text": [
      "3\n",
      "2\n",
      "1\n",
      "0\n"
     ]
    }
   ],
   "source": [
    "for num in [3, 2, 1, 0]:\n",
    "    print(num)"
   ]
  },
  {
   "cell_type": "code",
   "execution_count": 11,
   "id": "b82b81dc",
   "metadata": {},
   "outputs": [
    {
     "name": "stdout",
     "output_type": "stream",
     "text": [
      "too low\n",
      "too low\n",
      "too low\n",
      "too low\n",
      "too low\n",
      "too low\n",
      "found it!\n"
     ]
    }
   ],
   "source": [
    "guess_me = 7\n",
    "number = 1\n",
    "\n",
    "while number <= guess_me:\n",
    "    if number < guess_me:\n",
    "        print('too low')\n",
    "    elif number == guess_me:\n",
    "        print('found it!')\n",
    "        break  # Exit the loop when 'found it' is printed\n",
    "    else:\n",
    "        print('oops')\n",
    "        break  # Exit the loop when 'oops' is printed\n",
    "    number += 1  # Increment number at the end of the loop"
   ]
  },
  {
   "cell_type": "code",
   "execution_count": 12,
   "id": "2fd9141a",
   "metadata": {},
   "outputs": [
    {
     "name": "stdout",
     "output_type": "stream",
     "text": [
      "too low\n",
      "too low\n",
      "too low\n",
      "too low\n",
      "too low\n",
      "found it!\n"
     ]
    }
   ],
   "source": [
    "guess_me = 5\n",
    "\n",
    "for number in range(10):\n",
    "    if number < guess_me:\n",
    "        print('too low')\n",
    "    elif number == guess_me:\n",
    "        print('found it!')\n",
    "        break  # Exit the loop when 'found it' is printed\n",
    "    else:\n",
    "        print('oops')\n",
    "        break  # Exit the loop when 'oops' is printed"
   ]
  }
 ],
 "metadata": {
  "kernelspec": {
   "display_name": "Python 3 (ipykernel)",
   "language": "python",
   "name": "python3"
  },
  "language_info": {
   "codemirror_mode": {
    "name": "ipython",
    "version": 3
   },
   "file_extension": ".py",
   "mimetype": "text/x-python",
   "name": "python",
   "nbconvert_exporter": "python",
   "pygments_lexer": "ipython3",
   "version": "3.11.5"
  }
 },
 "nbformat": 4,
 "nbformat_minor": 5
}
